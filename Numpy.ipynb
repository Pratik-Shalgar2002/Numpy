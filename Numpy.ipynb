{
 "cells": [
  {
   "cell_type": "markdown",
   "id": "da9ec2a1-96de-4e1a-8577-132919f0927f",
   "metadata": {},
   "source": [
    "# Numpy In Python\n"
   ]
  },
  {
   "cell_type": "markdown",
   "id": "146a4564-7e07-4fe3-a562-b9d9044aca40",
   "metadata": {},
   "source": [
    "## What is Numpy ?\n"
   ]
  },
  {
   "cell_type": "markdown",
   "id": "6bb53f29-5147-46ae-8f73-16338f17b4f0",
   "metadata": {},
   "source": [
    "**NumPy** is a Python library used for numerical computing. It provides support for large, multi-dimensional arrays and matrices, along with a collection of mathematical functions to operate on these arrays efficiently."
   ]
  },
  {
   "cell_type": "code",
   "execution_count": null,
   "id": "8b25f6b9-a204-4953-b483-690cd2847ba4",
   "metadata": {},
   "outputs": [],
   "source": []
  },
  {
   "cell_type": "markdown",
   "id": "0c109a9a-559f-44b4-84ff-1c78dd909725",
   "metadata": {},
   "source": [
    "## What is Numpy Array ?"
   ]
  },
  {
   "cell_type": "markdown",
   "id": "ca05cb2d-cd00-48e2-b3c6-71c663700e7e",
   "metadata": {},
   "source": [
    "A **NumPy array** is a grid of values, all of the same type, indexed by a tuple of non-negative integers. It is similar to a Python list but is more powerful because it supports efficient operations and broadcasting, allowing for element-wise computations.\n"
   ]
  },
  {
   "cell_type": "code",
   "execution_count": null,
   "id": "0b5adfd6-116d-42c7-9f88-19b19565faf2",
   "metadata": {},
   "outputs": [],
   "source": []
  },
  {
   "cell_type": "markdown",
   "id": "6b193671-c66d-419f-855c-65048b7ba120",
   "metadata": {},
   "source": [
    "## Type of Numpy Array"
   ]
  },
  {
   "cell_type": "markdown",
   "id": "67f614bb-0af9-47e0-8fb1-722f9f7ab6f4",
   "metadata": {},
   "source": [
    "\r\n",
    "1. **1D Array (Vector)**: A single-dimensional array, similar to a list.\r\n",
    "2. **2D Array (Matrix)**: A two-dimensional array, like a table of rows and columns.\r\n",
    "3. **3D Array (Tensor)**: A multi-dimensional array with three or more dimensio\n",
    "4. **Multi Dimentional**ns.\r\n"
   ]
  },
  {
   "cell_type": "markdown",
   "id": "d6197973-e50b-4387-b815-8491660f615b",
   "metadata": {},
   "source": []
  },
  {
   "cell_type": "markdown",
   "id": "8d0d21f6-c221-4ec7-adb4-5085cb384be6",
   "metadata": {},
   "source": [
    "## Numpy VS Python List"
   ]
  },
  {
   "cell_type": "markdown",
   "id": "d6953dae-38b7-4317-9b58-6891ffee48ee",
   "metadata": {},
   "source": [
    "*Advantanges of Numpy*"
   ]
  },
  {
   "cell_type": "markdown",
   "id": "e0eacf1d-41f8-45df-afdf-9e7596406aa2",
   "metadata": {},
   "source": [
    "1. Numpy consumes less memory\n",
    "2. Numpy is fast\n",
    "3. Numpy is convenient to use\n",
    "   "
   ]
  },
  {
   "cell_type": "code",
   "execution_count": null,
   "id": "44ee625d-8297-4e03-8862-5459259692ca",
   "metadata": {},
   "outputs": [],
   "source": []
  },
  {
   "cell_type": "markdown",
   "id": "dbdb16a6-864d-4c0e-badf-579fe72b8570",
   "metadata": {},
   "source": [
    "## Installation"
   ]
  },
  {
   "cell_type": "code",
   "execution_count": 48,
   "id": "6ecc066a-775f-4480-b18a-78384dfbf1cd",
   "metadata": {},
   "outputs": [
    {
     "name": "stdout",
     "output_type": "stream",
     "text": [
      "Requirement already satisfied: numpy in c:\\users\\prati\\anaconda3\\lib\\site-packages (1.26.4)\n",
      "Note: you may need to restart the kernel to use updated packages.\n"
     ]
    }
   ],
   "source": [
    "pip install numpy\n"
   ]
  },
  {
   "cell_type": "code",
   "execution_count": null,
   "id": "3f80351c-c744-43d3-9742-c7c4fc3fc911",
   "metadata": {},
   "outputs": [],
   "source": []
  },
  {
   "cell_type": "markdown",
   "id": "858713d3-4568-4d8f-8849-be2f58c25107",
   "metadata": {},
   "source": [
    "## Import"
   ]
  },
  {
   "cell_type": "code",
   "execution_count": 52,
   "id": "7942fea2-b1f1-4697-aeea-b3db2313e222",
   "metadata": {},
   "outputs": [],
   "source": [
    "import numpy as np"
   ]
  },
  {
   "cell_type": "code",
   "execution_count": null,
   "id": "c4712710-59d8-4680-bbb3-ae0d9ed7a2d5",
   "metadata": {},
   "outputs": [],
   "source": []
  },
  {
   "cell_type": "markdown",
   "id": "6866feb6-9016-4a09-98ea-d476c682768b",
   "metadata": {},
   "source": [
    "## Imporatance of numpy in python\n"
   ]
  },
  {
   "cell_type": "markdown",
   "id": "05c54a69-1efc-4cbf-9a31-cb285b81fac0",
   "metadata": {},
   "source": [
    "1. Wide varity of Mathematical operations\n",
    "2. it supplies enormous library of high mathematical functions"
   ]
  },
  {
   "cell_type": "code",
   "execution_count": null,
   "id": "72704d53-b94d-4fbc-b9b4-c02291b888da",
   "metadata": {},
   "outputs": [],
   "source": []
  },
  {
   "cell_type": "markdown",
   "id": "05453008-7f7c-478c-a931-9b39c8c28b35",
   "metadata": {},
   "source": [
    "## Difference between Numpy and Python List\n"
   ]
  },
  {
   "cell_type": "markdown",
   "id": "558ee0db-1f42-4529-81b4-a1cc7a9155ac",
   "metadata": {},
   "source": [
    "\n",
    "1. **Performance**: NumPy arrays are faster and more efficient than Python lists due to their fixed type and optimized operations.\n",
    "2. **Memory Usage**: NumPy arrays consume less memory compared to Python lists.\n",
    "3. **Functional Capabilities**: NumPy supports vectorized operations, allowing for element-wise computations without loops, whereas Python lists require iteration.\n",
    "4. **Data Type**: All elements in a NumPy array must be of the same type, while Python lists can hold mixed data types.\n",
    "5. **Built-in Methods**: NumPy has numerous built-in mathematical functions for arrays, which are not available for Python lists.\n"
   ]
  },
  {
   "cell_type": "code",
   "execution_count": null,
   "id": "e28c742b-4d6e-4b40-9244-f7a4821a3cb7",
   "metadata": {},
   "outputs": [],
   "source": []
  },
  {
   "cell_type": "markdown",
   "id": "edbfaac4-6787-4133-a958-12f9bce7a91c",
   "metadata": {},
   "source": [
    "## Creating Numpy Array"
   ]
  },
  {
   "cell_type": "code",
   "execution_count": 73,
   "id": "c4d5b427-3336-4f96-ac9d-a35355968bdc",
   "metadata": {},
   "outputs": [
    {
     "name": "stdout",
     "output_type": "stream",
     "text": [
      "[1 2 3 4]\n"
     ]
    }
   ],
   "source": [
    "var = np.array([1,2,3,4])\n",
    "print(var)"
   ]
  },
  {
   "cell_type": "code",
   "execution_count": null,
   "id": "e67b34d1-e19f-4591-8c30-2a00e92e913b",
   "metadata": {},
   "outputs": [],
   "source": []
  },
  {
   "cell_type": "markdown",
   "id": "94f3925f-60e2-4473-b5a7-2d902f1ee7ec",
   "metadata": {},
   "source": [
    "## Dimentions in Array"
   ]
  },
  {
   "cell_type": "code",
   "execution_count": 81,
   "id": "59b45f41-f95b-4003-82c1-3b9f6cc8887f",
   "metadata": {},
   "outputs": [
    {
     "name": "stdout",
     "output_type": "stream",
     "text": [
      "[1 2 3 4]\n",
      "1\n"
     ]
    }
   ],
   "source": [
    "# 1-d Array\n",
    "a = np.array([1,2,3,4])\n",
    "print(a)\n",
    "print(a.ndim)"
   ]
  },
  {
   "cell_type": "code",
   "execution_count": 93,
   "id": "fade81eb-f133-4f3b-9821-727d9f25747b",
   "metadata": {},
   "outputs": [
    {
     "name": "stdout",
     "output_type": "stream",
     "text": [
      "[[1 2 3 4]\n",
      " [1 2 3 4]]\n",
      "2\n"
     ]
    }
   ],
   "source": [
    "#2-D Array\n",
    "b = np.array([[1,2,3,4],[1,2,3,4]])\n",
    "print(b)\n",
    "print(b.ndim)"
   ]
  },
  {
   "cell_type": "code",
   "execution_count": 95,
   "id": "4b8b6cbb-f8f6-4705-afc2-df60ecc76048",
   "metadata": {},
   "outputs": [
    {
     "name": "stdout",
     "output_type": "stream",
     "text": [
      "[[[1 2 3 4]\n",
      "  [1 2 3 4]\n",
      "  [1 2 3 4]]]\n",
      "3\n"
     ]
    }
   ],
   "source": [
    "#3-D Array\n",
    "c = np.array([[[1,2,3,4],[1,2,3,4],[1,2,3,4]]])\n",
    "print(c)\n",
    "print(c.ndim)"
   ]
  },
  {
   "cell_type": "code",
   "execution_count": 97,
   "id": "c47d285f-32a2-4262-adb1-3f515d39c0e6",
   "metadata": {},
   "outputs": [
    {
     "name": "stdout",
     "output_type": "stream",
     "text": [
      "[[[[[[[[[[1 2 3 4]]]]]]]]]]\n",
      "10\n"
     ]
    }
   ],
   "source": [
    "#To create Multi dimentional array use np.array(data,ndmin= value)\n",
    "d = np.array([1,2,3,4],ndmin=10)\n",
    "print(d)\n",
    "print(d.ndim)"
   ]
  },
  {
   "cell_type": "markdown",
   "id": "d7140191-6b3b-4fbb-81c6-8d011c0a431f",
   "metadata": {},
   "source": []
  },
  {
   "cell_type": "markdown",
   "id": "59c214c7-256c-480c-80db-e578483e2ae2",
   "metadata": {},
   "source": [
    "## Create Numpy array using numpy function"
   ]
  },
  {
   "cell_type": "markdown",
   "id": "0be419f1-aa02-477d-b426-f102b3d76e85",
   "metadata": {},
   "source": [
    "**Zeros**"
   ]
  },
  {
   "cell_type": "code",
   "execution_count": 107,
   "id": "4621b621-3d7a-4b69-ba55-a0de4e25bb90",
   "metadata": {},
   "outputs": [
    {
     "name": "stdout",
     "output_type": "stream",
     "text": [
      "[0. 0. 0. 0. 0.]\n"
     ]
    }
   ],
   "source": [
    "\n",
    "# 1-D\n",
    "x = np.zeros(5)\n",
    "print(x)"
   ]
  },
  {
   "cell_type": "code",
   "execution_count": 109,
   "id": "95f21902-569f-402f-9aa8-6d32c10b5fb3",
   "metadata": {},
   "outputs": [
    {
     "name": "stdout",
     "output_type": "stream",
     "text": [
      "[[0. 0. 0.]\n",
      " [0. 0. 0.]]\n"
     ]
    }
   ],
   "source": [
    "#2-D\n",
    "x = np.zeros((2,3))\n",
    "print(x)"
   ]
  },
  {
   "cell_type": "markdown",
   "id": "34e39c22-0f34-4d49-8747-eb74a4282f91",
   "metadata": {},
   "source": [
    "**Ones**\n"
   ]
  },
  {
   "cell_type": "code",
   "execution_count": 112,
   "id": "b8d567cf-0418-42eb-9960-185368168af5",
   "metadata": {},
   "outputs": [
    {
     "name": "stdout",
     "output_type": "stream",
     "text": [
      "[1. 1. 1. 1. 1.]\n"
     ]
    }
   ],
   "source": [
    "#1-D\n",
    "x = np.ones(5)\n",
    "print(x)"
   ]
  },
  {
   "cell_type": "code",
   "execution_count": 114,
   "id": "c10d578a-4b06-468c-b709-be88acb30273",
   "metadata": {},
   "outputs": [
    {
     "name": "stdout",
     "output_type": "stream",
     "text": [
      "[[1. 1. 1.]\n",
      " [1. 1. 1.]]\n"
     ]
    }
   ],
   "source": [
    "#2-D \n",
    "x= np.ones((2,3))\n",
    "print(x)"
   ]
  },
  {
   "cell_type": "code",
   "execution_count": 116,
   "id": "0c46dd55-6b92-4010-a97b-71d29a7d982e",
   "metadata": {},
   "outputs": [
    {
     "name": "stdout",
     "output_type": "stream",
     "text": [
      "[[1. 1.]\n",
      " [1. 1.]\n",
      " [1. 1.]]\n"
     ]
    }
   ],
   "source": [
    "x= np.ones((3,2))\n",
    "print(x)"
   ]
  },
  {
   "cell_type": "markdown",
   "id": "26f5f20b-37a8-4739-a6f2-5968528221fa",
   "metadata": {},
   "source": [
    "**Empty**\n"
   ]
  },
  {
   "cell_type": "code",
   "execution_count": 119,
   "id": "b7ec7ce8-554b-4af9-b024-3ef995da491b",
   "metadata": {},
   "outputs": [
    {
     "name": "stdout",
     "output_type": "stream",
     "text": [
      "[6.23042070e-307 4.67296746e-307 1.69121096e-306 7.56602523e-307]\n"
     ]
    }
   ],
   "source": [
    "x= np.empty(4)\n",
    "print(x)"
   ]
  },
  {
   "cell_type": "markdown",
   "id": "b8cf07b1-ce29-4529-be96-f7949c539c85",
   "metadata": {},
   "source": [
    "**Dignoal element filled with 1**"
   ]
  },
  {
   "cell_type": "code",
   "execution_count": 122,
   "id": "a643f1e5-2276-4aa5-b0e1-8fb235ca1ae3",
   "metadata": {},
   "outputs": [
    {
     "name": "stdout",
     "output_type": "stream",
     "text": [
      "[[1. 0. 0.]\n",
      " [0. 1. 0.]\n",
      " [0. 0. 1.]]\n"
     ]
    }
   ],
   "source": [
    "x = np.eye(3)\n",
    "print(x)"
   ]
  },
  {
   "cell_type": "code",
   "execution_count": 124,
   "id": "73de1a34-2965-4bfa-8b2d-1c6a50227ce2",
   "metadata": {},
   "outputs": [
    {
     "name": "stdout",
     "output_type": "stream",
     "text": [
      "[[1. 0. 0. 0. 0.]\n",
      " [0. 1. 0. 0. 0.]\n",
      " [0. 0. 1. 0. 0.]]\n"
     ]
    }
   ],
   "source": [
    "x = np.eye(3,5)\n",
    "print(x)"
   ]
  },
  {
   "cell_type": "markdown",
   "id": "fdf07244-1adb-45bf-9372-f5be5c37b499",
   "metadata": {},
   "source": [
    "**line Space**\n"
   ]
  },
  {
   "cell_type": "code",
   "execution_count": 127,
   "id": "6ed89e4b-1196-44f7-859b-3432f6e8a5a1",
   "metadata": {},
   "outputs": [
    {
     "name": "stdout",
     "output_type": "stream",
     "text": [
      "[ 0.  5. 10. 15. 20.]\n"
     ]
    }
   ],
   "source": [
    "x = np.linspace(0,20,5)\n",
    "print(x)"
   ]
  },
  {
   "cell_type": "code",
   "execution_count": null,
   "id": "7db14956-ec30-44d9-a920-82b76ff2d18d",
   "metadata": {},
   "outputs": [],
   "source": [
    "\n"
   ]
  },
  {
   "cell_type": "markdown",
   "id": "1a65eba7-8a24-4931-ab83-63ac6b339078",
   "metadata": {},
   "source": [
    "## Creating numpy array with random number"
   ]
  },
  {
   "cell_type": "markdown",
   "id": "16fe275b-cddd-422d-ac53-210d9ae71da6",
   "metadata": {},
   "source": [
    "1.rand()"
   ]
  },
  {
   "cell_type": "code",
   "execution_count": 134,
   "id": "550ed6a5-b4b8-4ced-9d96-e9fcc88e93d5",
   "metadata": {},
   "outputs": [
    {
     "name": "stdout",
     "output_type": "stream",
     "text": [
      "[0.16901238 0.51060926 0.17321742 0.32850384 0.9138102 ]\n"
     ]
    }
   ],
   "source": [
    "x = np.random.rand(5)\n",
    "print(x)"
   ]
  },
  {
   "cell_type": "markdown",
   "id": "08ece121-302e-4ed5-9d69-f7ea020be5ab",
   "metadata": {},
   "source": [
    "2.randn()"
   ]
  },
  {
   "cell_type": "code",
   "execution_count": 140,
   "id": "4066e5df-5cc5-4027-9790-5bfb1ee072b1",
   "metadata": {},
   "outputs": [
    {
     "name": "stdout",
     "output_type": "stream",
     "text": [
      "[-0.29916241 -1.06984905  0.70480472  1.59897942  0.00992114]\n"
     ]
    }
   ],
   "source": [
    "x = np.random.randn(5)\n",
    "print(x)"
   ]
  },
  {
   "cell_type": "markdown",
   "id": "f0ec5fd6-a8d9-4369-985b-e847fbb5f5d0",
   "metadata": {},
   "source": [
    "3. ranf()\n",
    "   "
   ]
  },
  {
   "cell_type": "code",
   "execution_count": 143,
   "id": "ea47e1cf-39f1-4897-91fd-c3a759ef2ef3",
   "metadata": {},
   "outputs": [
    {
     "name": "stdout",
     "output_type": "stream",
     "text": [
      "[0.08130097 0.08796921 0.92051491 0.15419219 0.00805272]\n"
     ]
    }
   ],
   "source": [
    "x = np.random.ranf(5)\n",
    "print(x)"
   ]
  },
  {
   "cell_type": "markdown",
   "id": "611b5f33-9caa-40dd-95fe-7e6ccbe79503",
   "metadata": {},
   "source": [
    "4. randint()"
   ]
  },
  {
   "cell_type": "code",
   "execution_count": 152,
   "id": "5b8b4342-74cc-4cc4-9786-88d2cf075843",
   "metadata": {},
   "outputs": [
    {
     "name": "stdout",
     "output_type": "stream",
     "text": [
      "[19 17 10  7 10]\n"
     ]
    }
   ],
   "source": [
    "x = np.random.randint(1, 20, 5)\n",
    "print(x)\n"
   ]
  },
  {
   "cell_type": "code",
   "execution_count": null,
   "id": "360ac42c-4bbf-42e3-9b5b-583b0260a479",
   "metadata": {},
   "outputs": [],
   "source": []
  },
  {
   "cell_type": "markdown",
   "id": "584112ab-06f4-4611-ba5e-e646e572eee8",
   "metadata": {},
   "source": [
    "## Data Types in NumPy Arrays\r\n",
    "e=np.float64)\r\n"
   ]
  },
  {
   "cell_type": "markdown",
   "id": "8d45bbb0-f741-40d9-80ef-2f4e32e83ec5",
   "metadata": {},
   "source": [
    "NumPy arrays can store elements of a specific data type. The type of data in an array is called `dtype`. Some common NumPy data types include:\n",
    "\n",
    "1. **int**: Integer types (e.g., `np.int32`, `np.int64`)\n",
    "2. **float**: Floating point numbers (e.g., `np.float32`, `np.float64`)\n",
    "3. **complex**: Complex numbers (e.g., `np.complex64`, `np.complex128`)\n",
    "4. **bool**: Boolean values (`True` or `False`)\n",
    "5. **str**: String data type (e.g., `np.str_`)\n",
    "\n",
    "You can specify the data type when creating a NumPy array by using the `dtype` parameter:\n",
    "\n",
    "```python\n",
    "arr = np.array([1, 2, 3], dtype=np.float64)"
   ]
  },
  {
   "cell_type": "code",
   "execution_count": null,
   "id": "dabd831f-66c9-4ee9-810b-d9ecbf97cb7c",
   "metadata": {},
   "outputs": [],
   "source": []
  },
  {
   "cell_type": "markdown",
   "id": "2eefcbdd-a7fd-4b4c-849b-857d65eafe4f",
   "metadata": {},
   "source": [
    "**To find Data Type**"
   ]
  },
  {
   "cell_type": "code",
   "execution_count": 161,
   "id": "367160b1-64d0-44f3-96a5-ede29d9cb8b0",
   "metadata": {},
   "outputs": [
    {
     "name": "stdout",
     "output_type": "stream",
     "text": [
      "int32\n"
     ]
    }
   ],
   "source": [
    "x = np.array([1,2,3,4])\n",
    "print(x.dtype)"
   ]
  },
  {
   "cell_type": "code",
   "execution_count": null,
   "id": "bbdbd2a8-59fd-4e7e-829f-1bc7a466eb92",
   "metadata": {},
   "outputs": [],
   "source": []
  },
  {
   "cell_type": "markdown",
   "id": "544ee7c7-8d4f-426d-acec-9ec242a5b597",
   "metadata": {},
   "source": [
    "## Arithmetic Operations"
   ]
  },
  {
   "cell_type": "code",
   "execution_count": 167,
   "id": "5bf3fd8f-2294-4490-9c73-81081a014158",
   "metadata": {},
   "outputs": [],
   "source": [
    "a = np.array([1,2,3,4])\n",
    "b = np.array([1,2,3,4])"
   ]
  },
  {
   "cell_type": "markdown",
   "id": "67822bde-2545-43eb-812d-e3c611573ac3",
   "metadata": {},
   "source": [
    "#### Addition"
   ]
  },
  {
   "cell_type": "code",
   "execution_count": 176,
   "id": "26abb6c6-f7bb-4d9f-87fd-5c61bdb01a03",
   "metadata": {},
   "outputs": [
    {
     "name": "stdout",
     "output_type": "stream",
     "text": [
      "[2 4 6 8]\n"
     ]
    }
   ],
   "source": [
    "print(a+b)"
   ]
  },
  {
   "cell_type": "code",
   "execution_count": 178,
   "id": "9cbf9978-14cb-49a8-83d4-50ddd7e52e17",
   "metadata": {},
   "outputs": [
    {
     "name": "stdout",
     "output_type": "stream",
     "text": [
      "[2 4 6 8]\n"
     ]
    }
   ],
   "source": [
    "print(np.add(a,b))"
   ]
  },
  {
   "cell_type": "code",
   "execution_count": null,
   "id": "69dc4f11-67d8-4f7a-9b4e-3b67aa02f7bf",
   "metadata": {},
   "outputs": [],
   "source": []
  },
  {
   "cell_type": "markdown",
   "id": "64be8efa-320c-4c17-9c5b-a65463a63a8c",
   "metadata": {},
   "source": [
    "#### Subtraction\n"
   ]
  },
  {
   "cell_type": "code",
   "execution_count": 180,
   "id": "43890b5d-009e-4ff3-afa5-e7520acdf805",
   "metadata": {},
   "outputs": [
    {
     "name": "stdout",
     "output_type": "stream",
     "text": [
      "[0 0 0 0]\n"
     ]
    }
   ],
   "source": [
    "print(a-b)"
   ]
  },
  {
   "cell_type": "code",
   "execution_count": 182,
   "id": "54e8916d-ecf1-4f90-82ee-2d90d288fdca",
   "metadata": {},
   "outputs": [
    {
     "name": "stdout",
     "output_type": "stream",
     "text": [
      "[0 0 0 0]\n"
     ]
    }
   ],
   "source": [
    "print(np.subtract(a,b))"
   ]
  },
  {
   "cell_type": "code",
   "execution_count": null,
   "id": "cc1755ec-801a-4c95-b865-8346e1b5978c",
   "metadata": {},
   "outputs": [],
   "source": []
  },
  {
   "cell_type": "markdown",
   "id": "d6b2c96d-e5a9-4d3e-a655-222654609218",
   "metadata": {},
   "source": [
    "#### Multiply"
   ]
  },
  {
   "cell_type": "code",
   "execution_count": 186,
   "id": "c475365c-5748-4889-9306-aaa421c8be57",
   "metadata": {},
   "outputs": [
    {
     "name": "stdout",
     "output_type": "stream",
     "text": [
      "[ 1  4  9 16]\n"
     ]
    }
   ],
   "source": [
    "print(a*b)"
   ]
  },
  {
   "cell_type": "code",
   "execution_count": 190,
   "id": "c592227d-a9f5-4d85-afc4-6f91161846bc",
   "metadata": {},
   "outputs": [
    {
     "name": "stdout",
     "output_type": "stream",
     "text": [
      "[ 1  4  9 16]\n"
     ]
    }
   ],
   "source": [
    "print(np.multiply(a,b))"
   ]
  },
  {
   "cell_type": "code",
   "execution_count": null,
   "id": "9d785545-4a3a-4c57-9e4b-fa095e9d0e62",
   "metadata": {},
   "outputs": [],
   "source": []
  },
  {
   "cell_type": "markdown",
   "id": "a450ee00-e3a6-44de-963e-2f44b421a209",
   "metadata": {},
   "source": [
    "#### Divide"
   ]
  },
  {
   "cell_type": "code",
   "execution_count": 194,
   "id": "0ba39ea0-e9c2-40e7-9f76-19ec280edcce",
   "metadata": {},
   "outputs": [
    {
     "name": "stdout",
     "output_type": "stream",
     "text": [
      "[1. 1. 1. 1.]\n"
     ]
    }
   ],
   "source": [
    "print(a/b)"
   ]
  },
  {
   "cell_type": "code",
   "execution_count": 199,
   "id": "729f08ae-7539-4281-ba3f-19eb1d06dbb3",
   "metadata": {},
   "outputs": [
    {
     "name": "stdout",
     "output_type": "stream",
     "text": [
      "[1. 1. 1. 1.]\n"
     ]
    }
   ],
   "source": [
    "print(np.divide(a,b))"
   ]
  },
  {
   "cell_type": "code",
   "execution_count": null,
   "id": "cf4d437d-32ae-4ee9-a540-d0c21d339497",
   "metadata": {},
   "outputs": [],
   "source": []
  },
  {
   "cell_type": "markdown",
   "id": "4141fb76-a561-4e52-9f36-ebe11cc31d7b",
   "metadata": {},
   "source": [
    "#### Mod"
   ]
  },
  {
   "cell_type": "code",
   "execution_count": 203,
   "id": "8ff09e25-00cf-4316-afa4-626f3c643e30",
   "metadata": {},
   "outputs": [
    {
     "name": "stdout",
     "output_type": "stream",
     "text": [
      "[0 0 0 0]\n"
     ]
    }
   ],
   "source": [
    "print(a%b)"
   ]
  },
  {
   "cell_type": "code",
   "execution_count": 207,
   "id": "229e9c23-5809-4a3a-a0dc-5bcccf57d4c7",
   "metadata": {},
   "outputs": [
    {
     "name": "stdout",
     "output_type": "stream",
     "text": [
      "[0 0 0 0]\n"
     ]
    }
   ],
   "source": [
    "print(np.mod(a,b))"
   ]
  },
  {
   "cell_type": "code",
   "execution_count": null,
   "id": "6bdbb0a5-7a8c-4082-8c38-ea1fd0b0d0fe",
   "metadata": {},
   "outputs": [],
   "source": []
  },
  {
   "cell_type": "markdown",
   "id": "f844ee7f-1857-4d58-ad9c-9c3c1b553c84",
   "metadata": {},
   "source": [
    "#### power"
   ]
  },
  {
   "cell_type": "code",
   "execution_count": 215,
   "id": "f0225361-eec0-4275-a7eb-8b1fcccfcfe6",
   "metadata": {},
   "outputs": [
    {
     "name": "stdout",
     "output_type": "stream",
     "text": [
      "[  1   4  27 256]\n"
     ]
    }
   ],
   "source": [
    "print(a**b)"
   ]
  },
  {
   "cell_type": "code",
   "execution_count": 217,
   "id": "7af3b740-e1c0-4a13-9076-2e38a3c49b28",
   "metadata": {},
   "outputs": [
    {
     "name": "stdout",
     "output_type": "stream",
     "text": [
      "[  1   4  27 256]\n"
     ]
    }
   ],
   "source": [
    "print(np.power(a,b))"
   ]
  },
  {
   "cell_type": "code",
   "execution_count": null,
   "id": "c5d2cf82-7aff-4115-87cf-36f4c22254b9",
   "metadata": {},
   "outputs": [],
   "source": []
  },
  {
   "cell_type": "markdown",
   "id": "8e9ca602-0e44-4b33-81de-e5cae01bfff1",
   "metadata": {},
   "source": [
    "#### Reciprocal"
   ]
  },
  {
   "cell_type": "code",
   "execution_count": 236,
   "id": "36c61181-9e4d-46db-9db2-be4b5a57b936",
   "metadata": {},
   "outputs": [
    {
     "name": "stdout",
     "output_type": "stream",
     "text": [
      "[1.         0.5        0.33333333 0.25      ]\n"
     ]
    }
   ],
   "source": [
    "print(1/a)"
   ]
  },
  {
   "cell_type": "code",
   "execution_count": 232,
   "id": "a8d3dc67-f03c-4e02-973b-82c9bb4494c6",
   "metadata": {},
   "outputs": [
    {
     "name": "stdout",
     "output_type": "stream",
     "text": [
      "[1 0 0 0]\n"
     ]
    }
   ],
   "source": [
    "print(np.reciprocal(a))"
   ]
  },
  {
   "cell_type": "code",
   "execution_count": null,
   "id": "cf2b0f36-fed4-4ed8-820c-ffb5947337e4",
   "metadata": {},
   "outputs": [],
   "source": [
    "\n"
   ]
  },
  {
   "cell_type": "markdown",
   "id": "620cbbf0-d615-42d3-8013-1e3f4fe9788d",
   "metadata": {},
   "source": [
    "## Arithmetic Function"
   ]
  },
  {
   "cell_type": "code",
   "execution_count": 241,
   "id": "f43d7c91-78f1-4e33-8c5d-df25ff34f1d7",
   "metadata": {},
   "outputs": [],
   "source": [
    "x= np.array([2,5,4,7,8,9,2,5,6,10,12,13])"
   ]
  },
  {
   "cell_type": "markdown",
   "id": "f292640b-6ed7-4838-b90e-d4170f3db340",
   "metadata": {},
   "source": [
    "**Max**"
   ]
  },
  {
   "cell_type": "code",
   "execution_count": 244,
   "id": "32c7dca7-a6b5-4b2c-919b-263f643a0e03",
   "metadata": {},
   "outputs": [
    {
     "name": "stdout",
     "output_type": "stream",
     "text": [
      "13\n"
     ]
    }
   ],
   "source": [
    "print(np.max(x))"
   ]
  },
  {
   "cell_type": "markdown",
   "id": "65996213-acb1-4788-8a55-c068ce515989",
   "metadata": {},
   "source": [
    "**min**"
   ]
  },
  {
   "cell_type": "code",
   "execution_count": 247,
   "id": "7002fbb7-f169-4c66-9478-fad7b0482d98",
   "metadata": {},
   "outputs": [
    {
     "name": "stdout",
     "output_type": "stream",
     "text": [
      "2\n"
     ]
    }
   ],
   "source": [
    "print(np.min(x))"
   ]
  },
  {
   "cell_type": "markdown",
   "id": "8888059b-65bd-4579-abbe-8b8ee23da8dc",
   "metadata": {},
   "source": [
    "**Argmin/argmax**"
   ]
  },
  {
   "cell_type": "code",
   "execution_count": 256,
   "id": "07010f27-c56b-422d-bcbf-e6f6f0320be8",
   "metadata": {},
   "outputs": [
    {
     "name": "stdout",
     "output_type": "stream",
     "text": [
      "0\n"
     ]
    }
   ],
   "source": [
    "print(np.argmin(x))"
   ]
  },
  {
   "cell_type": "code",
   "execution_count": 258,
   "id": "96ba8fc2-d415-4c4e-9825-d10c36d61d63",
   "metadata": {},
   "outputs": [
    {
     "name": "stdout",
     "output_type": "stream",
     "text": [
      "11\n"
     ]
    }
   ],
   "source": [
    "print(np.argmax(x))"
   ]
  },
  {
   "cell_type": "markdown",
   "id": "2bbc4b93-5f86-444f-8e0b-d2f2203e648a",
   "metadata": {},
   "source": [
    "**Squre Root**"
   ]
  },
  {
   "cell_type": "code",
   "execution_count": 261,
   "id": "79c69102-778a-4762-825f-60355489c8a7",
   "metadata": {},
   "outputs": [
    {
     "name": "stdout",
     "output_type": "stream",
     "text": [
      "[1.41421356 2.23606798 2.         2.64575131 2.82842712 3.\n",
      " 1.41421356 2.23606798 2.44948974 3.16227766 3.46410162 3.60555128]\n"
     ]
    }
   ],
   "source": [
    "print(np.sqrt(x))"
   ]
  },
  {
   "cell_type": "markdown",
   "id": "3bac18b6-6922-45fc-9ba5-f13ef6ae3d74",
   "metadata": {},
   "source": [
    "**Sin**\n"
   ]
  },
  {
   "cell_type": "code",
   "execution_count": 267,
   "id": "e9073ae1-5337-4f0f-acab-3c4fb714bda6",
   "metadata": {},
   "outputs": [
    {
     "name": "stdout",
     "output_type": "stream",
     "text": [
      "[ 0.90929743 -0.95892427 -0.7568025   0.6569866   0.98935825  0.41211849\n",
      "  0.90929743 -0.95892427 -0.2794155  -0.54402111 -0.53657292  0.42016704]\n"
     ]
    }
   ],
   "source": [
    "print(np.sin(x))"
   ]
  },
  {
   "cell_type": "markdown",
   "id": "40d5dbed-b993-41f0-ab46-fcec4d15ce6b",
   "metadata": {},
   "source": [
    "**cos**\n"
   ]
  },
  {
   "cell_type": "code",
   "execution_count": 269,
   "id": "41f06d3c-6f4b-492f-8fb6-df236d82bc00",
   "metadata": {},
   "outputs": [
    {
     "name": "stdout",
     "output_type": "stream",
     "text": [
      "[-0.41614684  0.28366219 -0.65364362  0.75390225 -0.14550003 -0.91113026\n",
      " -0.41614684  0.28366219  0.96017029 -0.83907153  0.84385396  0.90744678]\n"
     ]
    }
   ],
   "source": [
    "\n",
    "print(np.cos(x))"
   ]
  },
  {
   "cell_type": "markdown",
   "id": "bfe19d40-8cfe-4c45-bed0-619a6870f23f",
   "metadata": {},
   "source": [
    "**Cumsum**"
   ]
  },
  {
   "cell_type": "code",
   "execution_count": 271,
   "id": "baefa436-d587-41fc-81ec-d3c827377321",
   "metadata": {},
   "outputs": [
    {
     "name": "stdout",
     "output_type": "stream",
     "text": [
      "[ 2  7 11 18 26 35 37 42 48 58 70 83]\n"
     ]
    }
   ],
   "source": [
    "print(np.cumsum(x))"
   ]
  },
  {
   "cell_type": "code",
   "execution_count": null,
   "id": "0db207b4-e81a-44a8-92dd-96029c54ef4a",
   "metadata": {},
   "outputs": [],
   "source": []
  },
  {
   "cell_type": "markdown",
   "id": "b7dc6b97-e509-4b9a-8765-7140f70978ec",
   "metadata": {},
   "source": [
    "## Shape & Reshape"
   ]
  },
  {
   "cell_type": "markdown",
   "id": "7676ca55-1c45-4e65-a221-6ba986626cbb",
   "metadata": {},
   "source": [
    "#### Shape"
   ]
  },
  {
   "cell_type": "code",
   "execution_count": 28,
   "id": "56fb677f-c1d7-44ee-ae11-95d58b441e5e",
   "metadata": {},
   "outputs": [
    {
     "data": {
      "text/plain": [
       "array([[1, 2],\n",
       "       [3, 4]])"
      ]
     },
     "execution_count": 28,
     "metadata": {},
     "output_type": "execute_result"
    }
   ],
   "source": [
    "import numpy as np\n",
    "x = np.array([[1,2],[3,4]])\n",
    "x"
   ]
  },
  {
   "cell_type": "code",
   "execution_count": 30,
   "id": "7161f7de-b3e7-4664-8f11-4837248326bf",
   "metadata": {},
   "outputs": [
    {
     "name": "stdout",
     "output_type": "stream",
     "text": [
      "(2, 2)\n"
     ]
    }
   ],
   "source": [
    "print(x.shape)"
   ]
  },
  {
   "cell_type": "code",
   "execution_count": 34,
   "id": "54651e8b-afb6-4fed-942e-fe8af4ce8e59",
   "metadata": {},
   "outputs": [
    {
     "name": "stdout",
     "output_type": "stream",
     "text": [
      "(1, 1, 1, 4)\n"
     ]
    }
   ],
   "source": [
    "y = np.array([1,2, 3,4],ndmin = 4)\n",
    "y\n",
    "print(y.shape)"
   ]
  },
  {
   "cell_type": "markdown",
   "id": "6b0cbb3f-388a-4104-a6e3-a721e3b95bcf",
   "metadata": {},
   "source": [
    "#### Reshape"
   ]
  },
  {
   "cell_type": "code",
   "execution_count": 43,
   "id": "ee074702-b1de-4049-ae3c-971b5a40f6db",
   "metadata": {},
   "outputs": [
    {
     "data": {
      "text/plain": [
       "array([[1, 2],\n",
       "       [3, 4],\n",
       "       [5, 6],\n",
       "       [7, 8]])"
      ]
     },
     "execution_count": 43,
     "metadata": {},
     "output_type": "execute_result"
    }
   ],
   "source": [
    "x = np.array([1,2,3,4,5,6,7,8])\n",
    "y = x.reshape(4,2)\n",
    "y"
   ]
  },
  {
   "cell_type": "code",
   "execution_count": null,
   "id": "c394565c-aae9-4b24-a5ed-bcd8c0637512",
   "metadata": {},
   "outputs": [],
   "source": []
  },
  {
   "cell_type": "markdown",
   "id": "f10a1f9f-4227-454f-8c1b-5acd37eede70",
   "metadata": {},
   "source": [
    "## Broad casting"
   ]
  },
  {
   "cell_type": "markdown",
   "id": "b0faf1ab-1721-431e-b28e-97292e09dad7",
   "metadata": {},
   "source": [
    "- Should have same dimensions\n",
    "- Both should have 1 from left hand side"
   ]
  },
  {
   "cell_type": "markdown",
   "id": "f440e9c7-52f2-4354-beea-935d150ee346",
   "metadata": {},
   "source": [
    "## Indexing"
   ]
  },
  {
   "cell_type": "markdown",
   "id": "a916ee64-fd19-431e-bca1-cb59444ddd0a",
   "metadata": {},
   "source": [
    "#### 1-D"
   ]
  },
  {
   "cell_type": "code",
   "execution_count": 50,
   "id": "8340541a-2844-4846-995f-5101e50e977b",
   "metadata": {},
   "outputs": [],
   "source": [
    "import numpy as np\n",
    "x = np.array([1,2,3,4])\n",
    "#             0 1 2 3"
   ]
  },
  {
   "cell_type": "code",
   "execution_count": 52,
   "id": "29b69547-5dc3-4cdc-a2d7-ae4e649647e4",
   "metadata": {},
   "outputs": [
    {
     "name": "stdout",
     "output_type": "stream",
     "text": [
      "3\n"
     ]
    }
   ],
   "source": [
    "print(x[2])"
   ]
  },
  {
   "cell_type": "markdown",
   "id": "8824c941-0ec6-4584-94ff-590bbe95661f",
   "metadata": {},
   "source": [
    "#### 2-D"
   ]
  },
  {
   "cell_type": "code",
   "execution_count": 70,
   "id": "1a8923f0-2d62-4b0f-988d-90d0a73776c1",
   "metadata": {},
   "outputs": [
    {
     "data": {
      "text/plain": [
       "array([[1, 2],\n",
       "       [3, 4]])"
      ]
     },
     "execution_count": 70,
     "metadata": {},
     "output_type": "execute_result"
    }
   ],
   "source": [
    "import numpy as np\n",
    "x = np.array([[1,2],[3,4]])       \n",
    "x"
   ]
  },
  {
   "cell_type": "code",
   "execution_count": 72,
   "id": "c22aa4a2-6b84-44d0-be62-e11946c6850a",
   "metadata": {},
   "outputs": [
    {
     "name": "stdout",
     "output_type": "stream",
     "text": [
      "1\n"
     ]
    }
   ],
   "source": [
    "#     0  1 \n",
    "# 0 [[1, 2],\n",
    "# 1  [3, 4]])\n",
    "\n",
    "print(x[0,0])"
   ]
  },
  {
   "cell_type": "code",
   "execution_count": 74,
   "id": "773f2cdc-6688-4b4a-a404-8d89f424514b",
   "metadata": {},
   "outputs": [
    {
     "name": "stdout",
     "output_type": "stream",
     "text": [
      "2\n"
     ]
    }
   ],
   "source": [
    "print(x[0,1])"
   ]
  },
  {
   "cell_type": "markdown",
   "id": "6d8e1e0b-43f8-4534-9280-cb719694d706",
   "metadata": {},
   "source": [
    "#### 3-D"
   ]
  },
  {
   "cell_type": "code",
   "execution_count": 80,
   "id": "38a61aba-a3e5-43d8-ad4a-515951b41546",
   "metadata": {},
   "outputs": [
    {
     "name": "stdout",
     "output_type": "stream",
     "text": [
      "[[[1 2]\n",
      "  [3 4]]\n",
      "\n",
      " [[5 6]\n",
      "  [7 8]]]\n"
     ]
    }
   ],
   "source": [
    "import numpy as np\n",
    "x = np.array([[[1,2],[3,4]],[[5,6],[7,8]]])       \n",
    "print(x)"
   ]
  },
  {
   "cell_type": "code",
   "execution_count": 82,
   "id": "6682fda9-75eb-44bb-afbc-39029f3c1d4d",
   "metadata": {},
   "outputs": [],
   "source": [
    "#     0 1\n",
    "# [ [[1 2]0\n",
    "#    [3 4]1]0\n",
    "#   [[5 6]0\n",
    "#    [7 8]1]1 ]  "
   ]
  },
  {
   "cell_type": "code",
   "execution_count": 84,
   "id": "958c6956-7c21-436b-ab04-3ce651804ce2",
   "metadata": {},
   "outputs": [
    {
     "name": "stdout",
     "output_type": "stream",
     "text": [
      "6\n"
     ]
    }
   ],
   "source": [
    "print(x[1,0,1])"
   ]
  },
  {
   "cell_type": "code",
   "execution_count": null,
   "id": "94cbf422-c201-40ae-89f4-e73ca1cb7d92",
   "metadata": {},
   "outputs": [],
   "source": [
    "\n"
   ]
  },
  {
   "cell_type": "markdown",
   "id": "570f3efe-5ac7-4bed-ab28-fd162e65e080",
   "metadata": {},
   "source": [
    "## Slicing"
   ]
  },
  {
   "cell_type": "code",
   "execution_count": 88,
   "id": "ab785a30-92cd-4d55-8333-0560795e0880",
   "metadata": {},
   "outputs": [
    {
     "name": "stdout",
     "output_type": "stream",
     "text": [
      "[1 2 3 4 5]\n"
     ]
    }
   ],
   "source": [
    "import numpy as np\n",
    "x = np.array([1,2,3,4,5])\n",
    "print(x)\n"
   ]
  },
  {
   "cell_type": "code",
   "execution_count": 90,
   "id": "628c0f2b-31a1-4c99-98bf-6e74f040f1d9",
   "metadata": {},
   "outputs": [
    {
     "name": "stdout",
     "output_type": "stream",
     "text": [
      "[1 2 3 4 5]\n"
     ]
    }
   ],
   "source": [
    "print(x[0:])"
   ]
  },
  {
   "cell_type": "code",
   "execution_count": 92,
   "id": "7c84a0c8-03df-4e0a-ad7a-19f01f9ace0c",
   "metadata": {},
   "outputs": [
    {
     "name": "stdout",
     "output_type": "stream",
     "text": [
      "[1 2 3]\n"
     ]
    }
   ],
   "source": [
    "print(x[0:3])"
   ]
  },
  {
   "cell_type": "code",
   "execution_count": 94,
   "id": "c5a64406-6f1f-4f1d-9c12-5b5aa4945993",
   "metadata": {},
   "outputs": [
    {
     "name": "stdout",
     "output_type": "stream",
     "text": [
      "[4 5]\n"
     ]
    }
   ],
   "source": [
    "print(x[3:])"
   ]
  },
  {
   "cell_type": "code",
   "execution_count": null,
   "id": "d426d7cd-112c-47e9-a387-3ac746288899",
   "metadata": {},
   "outputs": [],
   "source": []
  },
  {
   "cell_type": "markdown",
   "id": "cc7c984e-9f91-4485-8a86-96eae2de8c8b",
   "metadata": {},
   "source": [
    "## Iterating Numpy array"
   ]
  },
  {
   "cell_type": "markdown",
   "id": "21bd45c4-8dcd-4f7d-ac03-8887ebaffc54",
   "metadata": {},
   "source": [
    "#### method 1"
   ]
  },
  {
   "cell_type": "markdown",
   "id": "e51aac9b-88f7-4008-8e6e-506b0da24a69",
   "metadata": {},
   "source": [
    "##### 1-D"
   ]
  },
  {
   "cell_type": "code",
   "execution_count": 99,
   "id": "41897a49-ec2d-4490-8f46-cdb35b113248",
   "metadata": {},
   "outputs": [
    {
     "name": "stdout",
     "output_type": "stream",
     "text": [
      "[1 2 3 4 5 6 7 8 9]\n"
     ]
    }
   ],
   "source": [
    "import numpy as np\n",
    "\n",
    "x = np.array([1,2,3,4,5,6,7,8,9])\n",
    "print(x)"
   ]
  },
  {
   "cell_type": "code",
   "execution_count": 101,
   "id": "5249a0d7-f230-41c3-bd71-70a71c479d67",
   "metadata": {},
   "outputs": [
    {
     "name": "stdout",
     "output_type": "stream",
     "text": [
      "1\n",
      "2\n",
      "3\n",
      "4\n",
      "5\n",
      "6\n",
      "7\n",
      "8\n",
      "9\n"
     ]
    }
   ],
   "source": [
    "for i in x:\n",
    "    print(i)"
   ]
  },
  {
   "cell_type": "markdown",
   "id": "967f0287-6c7c-4d10-8c94-c595db28d072",
   "metadata": {},
   "source": [
    "##### 2-D\n"
   ]
  },
  {
   "cell_type": "code",
   "execution_count": 112,
   "id": "c9bc994f-31ec-41aa-9971-1df1dba2608d",
   "metadata": {},
   "outputs": [
    {
     "name": "stdout",
     "output_type": "stream",
     "text": [
      "[[1 2 3 4]\n",
      " [5 6 7 8]]\n"
     ]
    }
   ],
   "source": [
    "import numpy as np\n",
    "\n",
    "x = np.array([[1,2,3,4],[5,6,7,8]])\n",
    "print(x)"
   ]
  },
  {
   "cell_type": "code",
   "execution_count": 120,
   "id": "ede1c391-ac45-4a5a-9f46-f2205473c387",
   "metadata": {},
   "outputs": [
    {
     "name": "stdout",
     "output_type": "stream",
     "text": [
      "[[1 2 3 4]\n",
      " [5 6 7 8]]\n",
      "[[1 2 3 4]\n",
      " [5 6 7 8]]\n"
     ]
    }
   ],
   "source": [
    "for i in x:\n",
    "    print(x)\n",
    "#False Result"
   ]
  },
  {
   "cell_type": "code",
   "execution_count": 122,
   "id": "911ae6ae-d707-40e7-8fc1-873e12df92ba",
   "metadata": {},
   "outputs": [
    {
     "name": "stdout",
     "output_type": "stream",
     "text": [
      "1\n",
      "2\n",
      "3\n",
      "4\n",
      "5\n",
      "6\n",
      "7\n",
      "8\n"
     ]
    }
   ],
   "source": [
    "for i in x:\n",
    "    for j in i:\n",
    "        print(j)"
   ]
  },
  {
   "cell_type": "markdown",
   "id": "84e9fdc6-796d-4167-ada1-b3d131adfebc",
   "metadata": {},
   "source": [
    "##### 3-D"
   ]
  },
  {
   "cell_type": "code",
   "execution_count": 124,
   "id": "815a9d7f-0e72-4dda-a0f8-4c7f29ad78e4",
   "metadata": {},
   "outputs": [
    {
     "name": "stdout",
     "output_type": "stream",
     "text": [
      "[[[1 2]\n",
      "  [3 4]]\n",
      "\n",
      " [[5 6]\n",
      "  [7 8]]]\n"
     ]
    }
   ],
   "source": [
    "import numpy as np\n",
    "x = np.array([[[1,2],[3,4]],[[5,6],[7,8]]])       \n",
    "print(x)"
   ]
  },
  {
   "cell_type": "code",
   "execution_count": 126,
   "id": "237610d3-5da8-46b4-810e-43d230cd6865",
   "metadata": {},
   "outputs": [
    {
     "name": "stdout",
     "output_type": "stream",
     "text": [
      "1\n",
      "2\n",
      "3\n",
      "4\n",
      "5\n",
      "6\n",
      "7\n",
      "8\n"
     ]
    }
   ],
   "source": [
    "for i in x:\n",
    "    for j in i:\n",
    "        for k in j:\n",
    "            print(k)"
   ]
  },
  {
   "cell_type": "markdown",
   "id": "d28eefe5-0ea9-46a1-b3e7-a0dae644039a",
   "metadata": {},
   "source": [
    "#### Method 2"
   ]
  },
  {
   "cell_type": "code",
   "execution_count": 129,
   "id": "147b16ad-56e3-484d-8952-4daae7b70115",
   "metadata": {},
   "outputs": [
    {
     "name": "stdout",
     "output_type": "stream",
     "text": [
      "[[[1 2]\n",
      "  [3 4]]\n",
      "\n",
      " [[5 6]\n",
      "  [7 8]]]\n"
     ]
    }
   ],
   "source": [
    "import numpy as np\n",
    "x = np.array([[[1,2],[3,4]],[[5,6],[7,8]]])       \n",
    "print(x)\n"
   ]
  },
  {
   "cell_type": "code",
   "execution_count": 133,
   "id": "201061cf-67d8-488f-9310-51a715bfa181",
   "metadata": {},
   "outputs": [
    {
     "name": "stdout",
     "output_type": "stream",
     "text": [
      "1\n",
      "2\n",
      "3\n",
      "4\n",
      "5\n",
      "6\n",
      "7\n",
      "8\n"
     ]
    }
   ],
   "source": [
    "for i in np.nditer(x):\n",
    "    print(i)"
   ]
  },
  {
   "cell_type": "code",
   "execution_count": 139,
   "id": "67ee44cd-a1d0-4762-bb6a-e8a0759d21a6",
   "metadata": {},
   "outputs": [
    {
     "name": "stdout",
     "output_type": "stream",
     "text": [
      "(0, 0, 0) 1\n",
      "(0, 0, 1) 2\n",
      "(0, 1, 0) 3\n",
      "(0, 1, 1) 4\n",
      "(1, 0, 0) 5\n",
      "(1, 0, 1) 6\n",
      "(1, 1, 0) 7\n",
      "(1, 1, 1) 8\n"
     ]
    }
   ],
   "source": [
    "# for Index\n",
    "for i,d  in np.ndenumerate(x):\n",
    "    print(i,d)"
   ]
  },
  {
   "cell_type": "markdown",
   "id": "390883d9-20a8-42bc-986a-eeef2f1b712a",
   "metadata": {
    "jp-MarkdownHeadingCollapsed": true
   },
   "source": [
    "## Copy VS View "
   ]
  },
  {
   "cell_type": "markdown",
   "id": "5ff19772-059b-41bc-9221-dfe17b93e6fe",
   "metadata": {
    "jp-MarkdownHeadingCollapsed": true
   },
   "source": [
    "#### Copy"
   ]
  },
  {
   "cell_type": "markdown",
   "id": "d79843fc-e01c-49a4-aed3-0b47aed36b5d",
   "metadata": {},
   "source": [
    "- **Definition**: A copy is an entirely new array or DataFrame that replicates the data of the original. Any modifications to the copied object do not affect the original."
   ]
  },
  {
   "cell_type": "code",
   "execution_count": 7,
   "id": "d16d4636-c1c0-4cd8-92ba-3b2ba38445e3",
   "metadata": {},
   "outputs": [
    {
     "name": "stdout",
     "output_type": "stream",
     "text": [
      "[[[1 2]\n",
      "  [3 4]]\n",
      "\n",
      " [[5 6]\n",
      "  [7 8]]]\n"
     ]
    }
   ],
   "source": [
    "import numpy as np\n",
    "x = np.array([[[1,2],[3,4]],[[5,6],[7,8]]])       \n",
    "print(x)"
   ]
  },
  {
   "cell_type": "code",
   "execution_count": 144,
   "id": "8dc58e0a-7378-4298-a00f-53d47d676c31",
   "metadata": {},
   "outputs": [],
   "source": [
    "var = x.copy()"
   ]
  },
  {
   "cell_type": "code",
   "execution_count": 146,
   "id": "27e7786a-764f-425f-b047-b85a7c2251da",
   "metadata": {},
   "outputs": [
    {
     "name": "stdout",
     "output_type": "stream",
     "text": [
      "[[[1 2]\n",
      "  [3 4]]\n",
      "\n",
      " [[5 6]\n",
      "  [7 8]]]\n"
     ]
    }
   ],
   "source": [
    "print(var)"
   ]
  },
  {
   "cell_type": "code",
   "execution_count": 27,
   "id": "e788c3c7-82bd-4c31-9ebc-a3f63b9e5078",
   "metadata": {},
   "outputs": [
    {
     "name": "stdout",
     "output_type": "stream",
     "text": [
      "[1 2 3 4]\n",
      "\n",
      "[1 2 3 4]\n",
      "\n",
      "[ 1  2 30  4]\n",
      "\n",
      "[1 2 3 4]\n"
     ]
    }
   ],
   "source": [
    "a = np.array([1,2,3,4])\n",
    "print(a)\n",
    "print()\n",
    "b = a.copy()\n",
    "print(b)\n",
    "print()\n",
    "\n",
    "a[2] = 30\n",
    "print(a)\n",
    "print()\n",
    "print(b)"
   ]
  },
  {
   "cell_type": "code",
   "execution_count": null,
   "id": "f44a04cd-dd15-4f1c-835c-9c5bbf1fd419",
   "metadata": {},
   "outputs": [],
   "source": [
    "\n",
    "\n"
   ]
  },
  {
   "cell_type": "markdown",
   "id": "00cea7a3-d3ed-4e21-9544-823f86f3a267",
   "metadata": {
    "jp-MarkdownHeadingCollapsed": true
   },
   "source": [
    "#### View"
   ]
  },
  {
   "cell_type": "markdown",
   "id": "36da7716-4737-4dba-a12c-b13c54358f9c",
   "metadata": {},
   "source": [
    "- **Definition**: A view is a new object that shares the same data as the original array or DataFrame. Any modifications made to the view will affect the original and vice versa."
   ]
  },
  {
   "cell_type": "code",
   "execution_count": 150,
   "id": "73ec00f7-f400-47d9-90d1-639f08728f9b",
   "metadata": {},
   "outputs": [
    {
     "name": "stdout",
     "output_type": "stream",
     "text": [
      "[[[1 2]\n",
      "  [3 4]]\n",
      "\n",
      " [[5 6]\n",
      "  [7 8]]]\n"
     ]
    }
   ],
   "source": [
    "import numpy as np\n",
    "x = np.array([[[1,2],[3,4]],[[5,6],[7,8]]])       \n",
    "print(x)"
   ]
  },
  {
   "cell_type": "code",
   "execution_count": 152,
   "id": "cbff2f5e-8b8e-4474-b656-6e8a2a0504fd",
   "metadata": {},
   "outputs": [],
   "source": [
    "var2 = x.view()"
   ]
  },
  {
   "cell_type": "code",
   "execution_count": 154,
   "id": "d174c7eb-0632-4cc8-8382-3e3c03555ccc",
   "metadata": {},
   "outputs": [
    {
     "name": "stdout",
     "output_type": "stream",
     "text": [
      "[[[1 2]\n",
      "  [3 4]]\n",
      "\n",
      " [[5 6]\n",
      "  [7 8]]]\n"
     ]
    }
   ],
   "source": [
    "print(var2)"
   ]
  },
  {
   "cell_type": "code",
   "execution_count": 29,
   "id": "2f1695c9-acbe-401c-abf5-39e54f4cb847",
   "metadata": {},
   "outputs": [
    {
     "name": "stdout",
     "output_type": "stream",
     "text": [
      "[1 2 3 4]\n",
      "\n",
      "[1 2 3 4]\n",
      "\n",
      "[ 1  2 30  4]\n",
      "\n",
      "[ 1  2 30  4]\n"
     ]
    }
   ],
   "source": [
    "a = np.array([1,2,3,4])\n",
    "print(a)\n",
    "print()\n",
    "b = a.view()\n",
    "print(b)\n",
    "print()\n",
    "\n",
    "a[2] = 30\n",
    "print(a)\n",
    "print()\n",
    "print(b)"
   ]
  },
  {
   "cell_type": "markdown",
   "id": "bb9f5937-7016-4b22-8b7d-f1f4bafa1380",
   "metadata": {},
   "source": [
    "## Join & Split Funtion"
   ]
  },
  {
   "cell_type": "markdown",
   "id": "a5f4f00a-fcef-4d42-a973-d32d066bb566",
   "metadata": {},
   "source": [
    "- **Join Array**: Joining means putting content of two or more array in single one."
   ]
  },
  {
   "cell_type": "markdown",
   "id": "c672afe2-ccfa-4c27-bec8-303f97f6ac65",
   "metadata": {},
   "source": [
    "### Concatenate"
   ]
  },
  {
   "cell_type": "markdown",
   "id": "6199c1d6-ac1b-4e34-8f2a-e6dcf02ce73c",
   "metadata": {},
   "source": [
    "#### 1-D"
   ]
  },
  {
   "cell_type": "code",
   "execution_count": 40,
   "id": "897d2159-3d09-4b82-84d1-9656b0049690",
   "metadata": {},
   "outputs": [
    {
     "name": "stdout",
     "output_type": "stream",
     "text": [
      "[1 2 3 4]\n",
      "[5 6 7 8]\n",
      "[1 2 3 4 5 6 7 8]\n"
     ]
    }
   ],
   "source": [
    "a = np.array([1,2,3,4])\n",
    "print(a)\n",
    "b = np.array([5,6,7,8])\n",
    "print(b)\n",
    "c = np.concatenate((a,b))\n",
    "print(c)"
   ]
  },
  {
   "cell_type": "markdown",
   "id": "dc370ae0-8632-4f29-a841-b57d00a8a91a",
   "metadata": {},
   "source": [
    "#### 2-D"
   ]
  },
  {
   "cell_type": "code",
   "execution_count": 47,
   "id": "6ab45c0e-2a5e-488f-aa73-501e5e3fd15c",
   "metadata": {},
   "outputs": [
    {
     "name": "stdout",
     "output_type": "stream",
     "text": [
      "[[1 2]\n",
      " [3 4]]\n",
      "\n",
      "[[5 6]\n",
      " [7 8]]\n",
      "\n",
      "[[1 2 5 6]\n",
      " [3 4 7 8]]\n"
     ]
    }
   ],
   "source": [
    "a = np.array([[1,2],[3,4]])\n",
    "print(a)\n",
    "print()\n",
    "b = np.array([[5,6],[7,8]])\n",
    "print(b)\n",
    "print()\n",
    "c = np.concatenate((a,b), axis = 1)\n",
    "print(c)\n"
   ]
  },
  {
   "cell_type": "code",
   "execution_count": 49,
   "id": "ef032d7b-6809-430e-8faf-f72ea55e0a21",
   "metadata": {},
   "outputs": [
    {
     "name": "stdout",
     "output_type": "stream",
     "text": [
      "[[1 2]\n",
      " [3 4]]\n",
      "\n",
      "[[5 6]\n",
      " [7 8]]\n",
      "\n",
      "[[1 2]\n",
      " [3 4]\n",
      " [5 6]\n",
      " [7 8]]\n"
     ]
    }
   ],
   "source": [
    "a = np.array([[1,2],[3,4]])\n",
    "print(a)\n",
    "print()\n",
    "b = np.array([[5,6],[7,8]])\n",
    "print(b)\n",
    "print()\n",
    "c = np.concatenate((a,b), axis = 0)\n",
    "print(c)"
   ]
  },
  {
   "cell_type": "markdown",
   "id": "7c911352-bf0a-47e6-a658-1ef1613d9b48",
   "metadata": {},
   "source": [
    "### Stack"
   ]
  },
  {
   "cell_type": "code",
   "execution_count": 69,
   "id": "b6982d55-ef8e-444c-b4aa-2fd5c66b5ed2",
   "metadata": {},
   "outputs": [
    {
     "name": "stdout",
     "output_type": "stream",
     "text": [
      "[1 2 3 4]\n",
      "\n",
      "[5 6 7 8]\n",
      "\n",
      "[[1 2 3 4]\n",
      " [5 6 7 8]]\n",
      "\n",
      "[[1 5]\n",
      " [2 6]\n",
      " [3 7]\n",
      " [4 8]]\n",
      "\n",
      "[1 2 3 4 5 6 7 8]\n",
      "\n",
      "[[1 2 3 4]\n",
      " [5 6 7 8]]\n",
      "\n",
      "[[[1 5]\n",
      "  [2 6]\n",
      "  [3 7]\n",
      "  [4 8]]]\n",
      "\n"
     ]
    }
   ],
   "source": [
    "a = np.array([1,2,3,4])\n",
    "print(a)\n",
    "print()\n",
    "b = np.array([5,6,7,8])\n",
    "print(b)\n",
    "print()\n",
    "c = np.stack((a,b),axis = 0)\n",
    "print(c)\n",
    "print()\n",
    "d = np.stack((a,b),axis = 1)\n",
    "print(d)\n",
    "print()\n",
    "e = np.hstack((a,b))\n",
    "print(e)\n",
    "print()\n",
    "f = np.vstack((a,b))\n",
    "print(f)\n",
    "print()\n",
    "g = np.dstack((a,b))\n",
    "print(g)\n",
    "print()\n"
   ]
  },
  {
   "cell_type": "markdown",
   "id": "c4100b71-1cc0-40a3-bb98-d52ddcc69dca",
   "metadata": {},
   "source": [
    "### Split"
   ]
  },
  {
   "cell_type": "markdown",
   "id": "fb280f37-04ec-42bc-9d2c-cc25eda1af04",
   "metadata": {},
   "source": [
    "- Spliting breaks one array into multiple"
   ]
  },
  {
   "cell_type": "code",
   "execution_count": 77,
   "id": "2e551416-2193-49d4-a7f6-69ca1c2d5f85",
   "metadata": {},
   "outputs": [
    {
     "name": "stdout",
     "output_type": "stream",
     "text": [
      "[1 2 3 4 5 6 7 8]\n"
     ]
    }
   ],
   "source": [
    "a = np.array([1,2,3,4,5,6,7,8])\n",
    "print(a)\n"
   ]
  },
  {
   "cell_type": "code",
   "execution_count": 81,
   "id": "b1757582-7423-4fbf-9a6c-8336f2cdef05",
   "metadata": {},
   "outputs": [
    {
     "name": "stdout",
     "output_type": "stream",
     "text": [
      "[array([1, 2, 3]), array([4, 5, 6]), array([7, 8])]\n"
     ]
    }
   ],
   "source": [
    "b = np.array_split(a,3)\n",
    "print(b)"
   ]
  },
  {
   "cell_type": "code",
   "execution_count": 83,
   "id": "b8534a1a-4a03-4c38-b595-6906387b687a",
   "metadata": {},
   "outputs": [
    {
     "name": "stdout",
     "output_type": "stream",
     "text": [
      "[array([1, 2, 3, 4]), array([5, 6, 7, 8])]\n"
     ]
    }
   ],
   "source": [
    "c = np.array_split(a,2)\n",
    "print(c)"
   ]
  },
  {
   "cell_type": "code",
   "execution_count": null,
   "id": "2772b256-ba44-40e5-8194-d6603573ad43",
   "metadata": {},
   "outputs": [],
   "source": []
  },
  {
   "cell_type": "markdown",
   "id": "36417d69-cb8f-4468-b182-70b625ab8b89",
   "metadata": {},
   "source": [
    "## Numpy Array Functions"
   ]
  },
  {
   "cell_type": "code",
   "execution_count": 94,
   "id": "a63d1974-f649-4993-b3e8-dbdd445cbccf",
   "metadata": {},
   "outputs": [],
   "source": [
    "x= np.array([1,2,3,4,2,14,45,56,54,78,83,12, 3, 4, 2])\n",
    "#            0 1 2 3 4 5  6  7   8  9 10 11 12 13 14"
   ]
  },
  {
   "cell_type": "markdown",
   "id": "f2342dde-64cd-4a95-a2dc-a14793584bcb",
   "metadata": {},
   "source": [
    "### Search"
   ]
  },
  {
   "cell_type": "code",
   "execution_count": 90,
   "id": "9fcdbb17-295e-4c98-b47a-ee96c20c354a",
   "metadata": {},
   "outputs": [
    {
     "name": "stdout",
     "output_type": "stream",
     "text": [
      "(array([ 1,  4, 14], dtype=int64),)\n"
     ]
    }
   ],
   "source": [
    "a = np.where(x == 2)\n",
    "print(a)"
   ]
  },
  {
   "cell_type": "markdown",
   "id": "85600def-5616-4da1-884d-0928715160f8",
   "metadata": {},
   "source": [
    "### Search Sorted Array"
   ]
  },
  {
   "cell_type": "code",
   "execution_count": 137,
   "id": "4a80c65f-a739-4016-aeda-58b96c7f7fdd",
   "metadata": {},
   "outputs": [],
   "source": [
    "g = np.array([1,2,3,4,6,7,8,9,10])"
   ]
  },
  {
   "cell_type": "code",
   "execution_count": 139,
   "id": "d1be18a6-328b-4995-9e10-82bfb300d932",
   "metadata": {},
   "outputs": [
    {
     "name": "stdout",
     "output_type": "stream",
     "text": [
      "4\n"
     ]
    }
   ],
   "source": [
    "a = np.searchsorted(g, 5)\n",
    "print(a)\n"
   ]
  },
  {
   "cell_type": "code",
   "execution_count": 141,
   "id": "d4094cd9-43cc-4aad-a060-5d3e1f2d88aa",
   "metadata": {},
   "outputs": [
    {
     "name": "stdout",
     "output_type": "stream",
     "text": [
      "4\n"
     ]
    }
   ],
   "source": [
    "B = np.searchsorted(g, 5, side= \"right\")\n",
    "print(B)"
   ]
  },
  {
   "cell_type": "markdown",
   "id": "fdfa789d-cad2-41d7-b3da-6bdaf4b125ca",
   "metadata": {},
   "source": [
    "### Sort Array"
   ]
  },
  {
   "cell_type": "code",
   "execution_count": 146,
   "id": "72ecc139-11f9-4566-900d-2c2293633831",
   "metadata": {},
   "outputs": [
    {
     "name": "stdout",
     "output_type": "stream",
     "text": [
      "[ 3  5  2 34 75  3  7 89  6  5]\n",
      "\n",
      "[ 2  3  3  5  5  6  7 34 75 89]\n"
     ]
    }
   ],
   "source": [
    "x = np.array([3,5,2,34,75,3,7,89,6,5])\n",
    "print(x)\n",
    "print()\n",
    "y = np.sort(x)\n",
    "print(y)"
   ]
  },
  {
   "cell_type": "code",
   "execution_count": null,
   "id": "2247af68-552f-4204-a5b4-687a55a1a867",
   "metadata": {},
   "outputs": [],
   "source": []
  },
  {
   "cell_type": "markdown",
   "id": "e8c056e3-c391-4002-840d-a4a6fbdbfb3c",
   "metadata": {},
   "source": [
    "### Filter Array"
   ]
  },
  {
   "cell_type": "code",
   "execution_count": 155,
   "id": "d416f48e-55fd-48d4-b9ad-21a71f5a9ac9",
   "metadata": {},
   "outputs": [
    {
     "name": "stdout",
     "output_type": "stream",
     "text": [
      "[1 4]\n"
     ]
    }
   ],
   "source": [
    "e = np.array([1,2,3,4])\n",
    "f= [True,False,False,True]\n",
    "print(e[f])"
   ]
  },
  {
   "cell_type": "code",
   "execution_count": null,
   "id": "fe3585c1-5bd8-44ce-9d5c-66c4aac4d8d8",
   "metadata": {},
   "outputs": [],
   "source": []
  },
  {
   "cell_type": "markdown",
   "id": "7a043aa7-3287-46ac-9329-a181740828ce",
   "metadata": {},
   "source": [
    "### Shuffle"
   ]
  },
  {
   "cell_type": "code",
   "execution_count": 168,
   "id": "bfc6123d-692e-44d0-984b-ea3b35767d0b",
   "metadata": {},
   "outputs": [],
   "source": [
    "x = np.array([1,2,3,4,5,6,7,8,9])\n"
   ]
  },
  {
   "cell_type": "code",
   "execution_count": 176,
   "id": "72442454-e5bd-481e-9811-9bd94dd02d03",
   "metadata": {},
   "outputs": [
    {
     "name": "stdout",
     "output_type": "stream",
     "text": [
      "[7 5 8 2 9 1 3 4 6]\n"
     ]
    }
   ],
   "source": [
    "np.random.shuffle(x)\n",
    "print(x)"
   ]
  },
  {
   "cell_type": "code",
   "execution_count": null,
   "id": "a5a1dc24-dac2-4791-9705-716de885c1b7",
   "metadata": {},
   "outputs": [],
   "source": []
  },
  {
   "cell_type": "markdown",
   "id": "63e71a88-c111-4437-b8d8-b80aa9fc8f36",
   "metadata": {},
   "source": [
    "### Unique"
   ]
  },
  {
   "cell_type": "code",
   "execution_count": 180,
   "id": "789949f3-9cb0-465e-a55a-7e37dc40fe8e",
   "metadata": {},
   "outputs": [],
   "source": [
    "x= np.array([1,2,3,4,2,14,45,56,54,78,83,12, 3, 4, 2])"
   ]
  },
  {
   "cell_type": "code",
   "execution_count": 186,
   "id": "6b267403-bddc-452d-89af-0dcf8d6e380f",
   "metadata": {},
   "outputs": [
    {
     "name": "stdout",
     "output_type": "stream",
     "text": [
      "[ 1  2  3  4 12 14 45 54 56 78 83]\n"
     ]
    }
   ],
   "source": [
    "y = np.unique(x)\n",
    "print(y)"
   ]
  },
  {
   "cell_type": "code",
   "execution_count": 188,
   "id": "6f128af0-79ea-4f37-9724-5ec324942cde",
   "metadata": {},
   "outputs": [
    {
     "name": "stdout",
     "output_type": "stream",
     "text": [
      "(array([ 1,  2,  3,  4, 12, 14, 45, 54, 56, 78, 83]), array([ 0,  1,  2,  3, 11,  5,  6,  8,  7,  9, 10], dtype=int64))\n"
     ]
    }
   ],
   "source": [
    "z = np.unique(x, return_index = True)\n",
    "print(z)"
   ]
  },
  {
   "cell_type": "code",
   "execution_count": 194,
   "id": "e31cc95d-eae0-415b-b749-bb59d8145221",
   "metadata": {},
   "outputs": [
    {
     "name": "stdout",
     "output_type": "stream",
     "text": [
      "(array([ 1,  2,  3,  4, 12, 14, 45, 54, 56, 78, 83]), array([ 0,  1,  2,  3, 11,  5,  6,  8,  7,  9, 10], dtype=int64), array([1, 3, 2, 2, 1, 1, 1, 1, 1, 1, 1], dtype=int64))\n"
     ]
    }
   ],
   "source": [
    "f = np.unique(x, return_index = True, return_counts = True)\n",
    "print(f)"
   ]
  },
  {
   "cell_type": "markdown",
   "id": "20d55774-6ca2-41ef-b544-4f0086cc1748",
   "metadata": {},
   "source": [
    "### Resize"
   ]
  },
  {
   "cell_type": "code",
   "execution_count": 196,
   "id": "7ca8b646-1748-4c0c-a75c-98b9e920a870",
   "metadata": {},
   "outputs": [],
   "source": [
    "x = np.array([1,2,3,4,5,6,7,8])\n"
   ]
  },
  {
   "cell_type": "code",
   "execution_count": 198,
   "id": "5d60be11-1422-407b-9a0d-bf228b8de599",
   "metadata": {},
   "outputs": [
    {
     "name": "stdout",
     "output_type": "stream",
     "text": [
      "[[1 2 3]\n",
      " [4 5 6]]\n"
     ]
    }
   ],
   "source": [
    "y= np.resize(x,(2,3))\n",
    "print(y)"
   ]
  },
  {
   "cell_type": "code",
   "execution_count": 200,
   "id": "4f85b2de-38aa-4563-a254-52b629081b38",
   "metadata": {},
   "outputs": [
    {
     "name": "stdout",
     "output_type": "stream",
     "text": [
      "[[1 2]\n",
      " [3 4]\n",
      " [5 6]]\n"
     ]
    }
   ],
   "source": [
    "z= np.resize(x,(3,2))\n",
    "print(z)"
   ]
  },
  {
   "cell_type": "markdown",
   "id": "990eb355-2106-46ca-b838-32dd7a6dc91f",
   "metadata": {},
   "source": [
    "### Flatten & Ravel"
   ]
  },
  {
   "cell_type": "code",
   "execution_count": 204,
   "id": "1259794e-bf80-446b-aaa1-b54ef0b3f071",
   "metadata": {},
   "outputs": [
    {
     "name": "stdout",
     "output_type": "stream",
     "text": [
      "[[1 2 3 4]\n",
      " [5 6 7 8]]\n"
     ]
    }
   ],
   "source": [
    "x = np.array([[1,2,3,4],[5,6,7,8]])\n",
    "print(x)"
   ]
  },
  {
   "cell_type": "code",
   "execution_count": 211,
   "id": "a623294e-b08f-45af-be3b-8e3209067689",
   "metadata": {},
   "outputs": [
    {
     "name": "stdout",
     "output_type": "stream",
     "text": [
      "[[1 2]\n",
      " [3 4]\n",
      " [5 6]]\n"
     ]
    }
   ],
   "source": [
    "z= np.resize(x,(3,2))\n",
    "print(z)"
   ]
  },
  {
   "cell_type": "code",
   "execution_count": 215,
   "id": "d6f83458-7bc3-43d3-b175-4974015e8a48",
   "metadata": {},
   "outputs": [
    {
     "name": "stdout",
     "output_type": "stream",
     "text": [
      "Flatten :  [1 2 3 4 5 6]\n"
     ]
    }
   ],
   "source": [
    "print(\"Flatten : \", z.flatten())"
   ]
  },
  {
   "cell_type": "code",
   "execution_count": 225,
   "id": "15edc222-b6cc-4195-8133-d088ab6df5be",
   "metadata": {},
   "outputs": [
    {
     "name": "stdout",
     "output_type": "stream",
     "text": [
      "Ravel :  [1 2 3 4 5 6]\n"
     ]
    }
   ],
   "source": [
    "print(\"Ravel : \", np.ravel(z))"
   ]
  },
  {
   "cell_type": "markdown",
   "id": "8615c9f8-56cc-4727-80b5-10dbc210c0cb",
   "metadata": {},
   "source": [
    "### Insert"
   ]
  },
  {
   "cell_type": "markdown",
   "id": "a7de09bd-14a5-4c5c-8759-672fcb33ce71",
   "metadata": {},
   "source": [
    "#### 1-D"
   ]
  },
  {
   "cell_type": "code",
   "execution_count": 231,
   "id": "3afa8d31-af42-4181-b74f-b9a7bc5f272b",
   "metadata": {},
   "outputs": [
    {
     "name": "stdout",
     "output_type": "stream",
     "text": [
      "[1 2 3 5 6 7 8]\n"
     ]
    }
   ],
   "source": [
    "n = np.array([1,2,3,5,6,7,8])\n",
    "print(n)"
   ]
  },
  {
   "cell_type": "code",
   "execution_count": null,
   "id": "dbd531fa-be2b-49ce-8069-933376ca5878",
   "metadata": {},
   "outputs": [],
   "source": [
    "# Insert Function"
   ]
  },
  {
   "cell_type": "code",
   "execution_count": 241,
   "id": "06c8d4af-6705-4705-ac97-7b6d84c047e4",
   "metadata": {},
   "outputs": [
    {
     "name": "stdout",
     "output_type": "stream",
     "text": [
      "[1 2 3 4 5 6 7 8]\n"
     ]
    }
   ],
   "source": [
    "a = np.insert(n,3,4)\n",
    "print(a)"
   ]
  },
  {
   "cell_type": "code",
   "execution_count": null,
   "id": "6dfcf57e-cc41-4ade-9873-10629380c3a2",
   "metadata": {},
   "outputs": [],
   "source": [
    "# Append Funtion"
   ]
  },
  {
   "cell_type": "code",
   "execution_count": 244,
   "id": "4fb6fdb7-e78a-4039-b125-0505b3267d68",
   "metadata": {},
   "outputs": [
    {
     "name": "stdout",
     "output_type": "stream",
     "text": [
      "[1 2 3 5 6 7 8 4]\n"
     ]
    }
   ],
   "source": [
    "b = np.append(n,4)\n",
    "print(b)"
   ]
  },
  {
   "cell_type": "markdown",
   "id": "905b2bed-ccdf-4ffe-be5f-39ce4c24b84b",
   "metadata": {},
   "source": [
    "#### 2-D"
   ]
  },
  {
   "cell_type": "code",
   "execution_count": 252,
   "id": "e23722a8-d721-4113-9bca-099c24652b55",
   "metadata": {},
   "outputs": [
    {
     "name": "stdout",
     "output_type": "stream",
     "text": [
      "[[1 2 3 4]\n",
      " [5 6 7 8]]\n"
     ]
    }
   ],
   "source": [
    "n = np.array([[1,2,3,4],[5,6,7,8]])\n",
    "print(n)"
   ]
  },
  {
   "cell_type": "code",
   "execution_count": null,
   "id": "cd56c0f5-58a5-4329-9565-49b63b0930ce",
   "metadata": {},
   "outputs": [],
   "source": [
    "# Insert Function"
   ]
  },
  {
   "cell_type": "code",
   "execution_count": 254,
   "id": "d0485266-126e-42fc-8b7a-7fffa60b0fef",
   "metadata": {},
   "outputs": [
    {
     "name": "stdout",
     "output_type": "stream",
     "text": [
      "[[ 1  2  3  4]\n",
      " [10 10 10 10]\n",
      " [ 5  6  7  8]]\n"
     ]
    }
   ],
   "source": [
    "a = np.insert(n,1,10,0)\n",
    "print(a)"
   ]
  },
  {
   "cell_type": "code",
   "execution_count": 256,
   "id": "2a205151-3cc5-42ca-b8d9-06da4073dbe4",
   "metadata": {},
   "outputs": [
    {
     "name": "stdout",
     "output_type": "stream",
     "text": [
      "[[ 1 10  2  3  4]\n",
      " [ 5 10  6  7  8]]\n"
     ]
    }
   ],
   "source": [
    "b = np.insert(n,1,10,1)\n",
    "print(b)"
   ]
  },
  {
   "cell_type": "code",
   "execution_count": 258,
   "id": "79063848-afd7-43fb-b297-eacd29ae0119",
   "metadata": {},
   "outputs": [],
   "source": [
    "# Append Function"
   ]
  },
  {
   "cell_type": "code",
   "execution_count": 278,
   "id": "ba303a0f-2c6a-4852-98d7-266c0c93f624",
   "metadata": {},
   "outputs": [
    {
     "name": "stdout",
     "output_type": "stream",
     "text": [
      "[[ 1  2  3  4]\n",
      " [ 5  6  7  8]\n",
      " [10 10  1  2]]\n"
     ]
    }
   ],
   "source": [
    "c = np.append(n,[[10,10,1,2]],axis = 0)\n",
    "print(c)"
   ]
  },
  {
   "cell_type": "code",
   "execution_count": 282,
   "id": "f72efcf8-09f0-4e5a-b583-96d1ca57f60c",
   "metadata": {},
   "outputs": [
    {
     "name": "stdout",
     "output_type": "stream",
     "text": [
      "[[1 2 3 4 1]\n",
      " [5 6 7 8 2]]\n"
     ]
    }
   ],
   "source": [
    "f = np.append(n,[[1],[2]],axis = 1)\n",
    "print(f)"
   ]
  },
  {
   "cell_type": "markdown",
   "id": "25fd7eec-423b-4256-ba7b-dcb72feec0fe",
   "metadata": {},
   "source": [
    "### Delete"
   ]
  },
  {
   "cell_type": "code",
   "execution_count": 285,
   "id": "1dc35897-f2d7-4eb7-ac2e-9801371c2ed0",
   "metadata": {},
   "outputs": [],
   "source": [
    "x = np.array([1,2,3,4,5,5,6,7,8])"
   ]
  },
  {
   "cell_type": "code",
   "execution_count": 297,
   "id": "892b654f-e294-41bb-b0b0-a5375a607985",
   "metadata": {},
   "outputs": [
    {
     "name": "stdout",
     "output_type": "stream",
     "text": [
      "[1 2 3 4 5 5 6 7 8]\n",
      "9\n"
     ]
    }
   ],
   "source": [
    "print(x)\n",
    "print(len(x))"
   ]
  },
  {
   "cell_type": "code",
   "execution_count": 301,
   "id": "8a4e82df-1bbe-401e-869f-6437bd6e0dc4",
   "metadata": {},
   "outputs": [
    {
     "name": "stdout",
     "output_type": "stream",
     "text": [
      "[1 2 3 4 5 6 7 8]\n",
      "8\n"
     ]
    }
   ],
   "source": [
    "y = np.delete(x,4)\n",
    "print(y)\n",
    "print(len(y))"
   ]
  },
  {
   "cell_type": "code",
   "execution_count": null,
   "id": "60b24700-e505-4644-a090-13e91df803dc",
   "metadata": {},
   "outputs": [],
   "source": []
  }
 ],
 "metadata": {
  "kernelspec": {
   "display_name": "Python 3 (ipykernel)",
   "language": "python",
   "name": "python3"
  },
  "language_info": {
   "codemirror_mode": {
    "name": "ipython",
    "version": 3
   },
   "file_extension": ".py",
   "mimetype": "text/x-python",
   "name": "python",
   "nbconvert_exporter": "python",
   "pygments_lexer": "ipython3",
   "version": "3.12.4"
  }
 },
 "nbformat": 4,
 "nbformat_minor": 5
}
